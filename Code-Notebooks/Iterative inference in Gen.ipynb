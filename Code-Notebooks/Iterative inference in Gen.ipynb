{
 "cells": [
  {
   "cell_type": "code",
   "execution_count": 1,
   "id": "5f350ea2",
   "metadata": {
    "scrolled": true
   },
   "outputs": [],
   "source": [
    "import Random#, logging\n",
    "using  Plots, CSV, Gen#, Dates\n",
    "using DataFrames: DataFrame\n",
    "# Disable logging, because @animate is verbose otherwise\n",
    "#Logging.disable_logging(Logging.Info);"
   ]
  },
  {
   "cell_type": "code",
   "execution_count": null,
   "id": "a5787c62",
   "metadata": {},
   "outputs": [],
   "source": [
    "SubChunkSize = 20\n",
    "@gen function regression_with_outliers(xs::Vector{<:Real})\n",
    "    # First, generate some parameters of the model. We make these\n",
    "    # random choices, because later, we will want to infer them\n",
    "    # from data. The distributions we use here express our assumptions\n",
    "    # about the parameters: we think the slope and intercept won't be\n",
    "    # too far from 0; that the noise is relatively small; and that\n",
    "    # the proportion of the dataset that don't fit a linear relationship\n",
    "    # (outliers) could be anything between 0 and 1.\n",
    "    n = length(xs)\n",
    "    NumChunks = div(n, SubChunkSize, RoundUp)\n",
    "    Indx = 1\n",
    "    Buffer_x = 0\n",
    "    Buffer_y = 0\n",
    "    mu = 0\n",
    "    prob_outlier = {:prob_outlier} ~ uniform(0, .2)\n",
    "    for i = 1:NumChunks\n",
    "        Quad = {(:Quad, i)} ~ normal(0, 300)\n",
    "        slope = {(:slope, i)} ~ normal(0, 3000)\n",
    "        noise = {(:noise, i)} ~ gamma(200, 200)\n",
    "        # Next, we generate the actual y coordinates.\n",
    "         ys = Float64[]\n",
    "        for j = 1:SubChunkSize\n",
    "            # Decide whether this point is an outlier, and set\n",
    "            # mean and standard deviation accordingly\n",
    "            if(!(Indx > n))\n",
    "                if ({:data => Indx => :is_outlier} ~ bernoulli(prob_outlier))\n",
    "                    (mu, std) = (1000*(xs[Indx] - Buffer_x) * slope + Buffer_y,  100*noise)\n",
    "                else\n",
    "                    (mu, std) = ((xs[Indx] - Buffer_x) * slope + Buffer_y,  noise)\n",
    "                end\n",
    "                # Sample a y value for this point\n",
    "                push!(ys, {:data => Indx => :y} ~ normal(mu, std))\n",
    "                Indx += 1\n",
    "            end\n",
    "        end\n",
    "        Buffer_y = mu\n",
    "        Buffer_x = xs[Indx-1]\n",
    "    end \n",
    "    ys\n",
    "end;"
   ]
  },
  {
   "cell_type": "code",
   "execution_count": null,
   "id": "0b2fa607",
   "metadata": {},
   "outputs": [],
   "source": [
    "using Plots\n",
    "#length(floor(xs/40)+1)\n",
    "function serialize_trace(trace)\n",
    "    (xs,) = Gen.get_args(trace)\n",
    "    n = length(xs)\n",
    "    NumChunks = div(n, SubChunkSize, RoundUp)\n",
    "    #print(xs)\n",
    "    Dict(:slope => [trace[(:slope, i)] for i in 1:NumChunks],\n",
    "         :inlier_std => [trace[(:noise, i)] for i in 1:NumChunks],\n",
    "         :points => zip(xs, [trace[:data => i => :y] for i in 1:length(xs)]),\n",
    "         :xs => xs,\n",
    "         :outliers => [trace[:data => i => :is_outlier] for i in 1:length(xs)])\n",
    "end"
   ]
  },
  {
   "cell_type": "code",
   "execution_count": null,
   "id": "9c452146",
   "metadata": {},
   "outputs": [],
   "source": [
    "function visualize_trace(trace::Trace; title=\"\")\n",
    "    trace = serialize_trace(trace)\n",
    "    n = length(trace[:xs])\n",
    "    NumChunks = div(n, SubChunkSize, RoundUp)\n",
    "    outliers = [pt for (pt, outlier) in zip(trace[:points], trace[:outliers]) if outlier]\n",
    "    inliers =  [pt for (pt, outlier) in zip(trace[:points], trace[:outliers]) if !outlier]\n",
    "    PLT = Plots.scatter(map(first, inliers), map(last, inliers), markercolor=\"blue\", label=nothing, title=title) \n",
    "    PLT = Plots.scatter!(map(first, outliers), map(last, outliers), markercolor=\"red\", label=nothing)\n",
    "    Buffer_y = 0\n",
    "    Buffer_x = 0\n",
    "    for i = 1:NumChunks\n",
    "        inferred_line(x) = trace[:slope][i] * (x - Buffer_x) + Buffer_y\n",
    "        if(1 + (i-1)*SubChunkSize > n)\n",
    "            left_x = trace[:xs][n]\n",
    "        else\n",
    "            left_x = trace[:xs][1 + (i-1)*SubChunkSize]\n",
    "        end\n",
    "        left_y  = inferred_line(left_x)\n",
    "        if(SubChunkSize*i > n)\n",
    "            right_x = trace[:xs][n]\n",
    "        else\n",
    "            right_x = trace[:xs][SubChunkSize*i]\n",
    "        end\n",
    "        right_y = inferred_line(right_x)\n",
    "        PLT = Plots.plot!([left_x, right_x], [left_y, right_y], color = \"black\", lw = 3, label = nothing)\n",
    "        Buffer_y = right_y\n",
    "        Buffer_x = right_x\n",
    "    end\n",
    "    return PLT\n",
    "end\n",
    "#, xlims=[MinX, MaxX], ylims=[MinY, MaxY]"
   ]
  },
  {
   "cell_type": "code",
   "execution_count": null,
   "id": "0d499330",
   "metadata": {},
   "outputs": [],
   "source": [
    "dataframe = CSV.read(\"../Data/Proccesed/DetrendedCov.csv\", DataFrame)"
   ]
  },
  {
   "cell_type": "code",
   "execution_count": null,
   "id": "68e27d6c",
   "metadata": {},
   "outputs": [],
   "source": [
    "#using DataArrays\n",
    "dataframe[!,:N1] = convert.(Base.Float64,dataframe[!,:N1])\n",
    "dataframe[!,:Date] = convert.(Base.Float64,dataframe[!,:Date])\n",
    "\n",
    "xs = dataframe.\"Date\"[1:390]\n",
    "ys = dataframe.\"N1\"[1:390]\n",
    "\n",
    "Plots.scatter(xs, ys, color=\"black\", xlabel=\"X\", ylabel=\"Y\", \n",
    "              label=nothing, title=\"Observations - regular data and outliers\")"
   ]
  },
  {
   "cell_type": "code",
   "execution_count": null,
   "id": "a8296771",
   "metadata": {},
   "outputs": [],
   "source": [
    "function make_constraints(ys::Vector{Float64})\n",
    "    constraints = Gen.choicemap()\n",
    "    for i=1:length(ys)\n",
    "        constraints[:data => i => :y] = ys[i]\n",
    "    end\n",
    "    constraints\n",
    "end;"
   ]
  },
  {
   "cell_type": "code",
   "execution_count": null,
   "id": "5c9998dd",
   "metadata": {},
   "outputs": [],
   "source": [
    "observations = make_constraints(ys);"
   ]
  },
  {
   "cell_type": "code",
   "execution_count": null,
   "id": "8c436bc9",
   "metadata": {},
   "outputs": [],
   "source": [
    "function logmeanexp(scores)\n",
    "    logsumexp(scores) - log(length(scores))\n",
    "end;"
   ]
  },
  {
   "cell_type": "code",
   "execution_count": null,
   "id": "43e5b62d",
   "metadata": {},
   "outputs": [],
   "source": [
    "traces    = [first(Gen.importance_resampling(regression_with_outliers, (xs,), observations, 1000)) for i in 1:9]\n",
    "#log_probs = [get_score(t) for t in traces]\n",
    "#println(\"Average log probability: $(logmeanexp(log_probs))\")\n",
    "Plots.plot([visualize_trace(t) for t in traces]...)"
   ]
  },
  {
   "cell_type": "code",
   "execution_count": null,
   "id": "a984770c",
   "metadata": {},
   "outputs": [],
   "source": [
    "# Perform a single block resimulation update of a trace.\n",
    "function block_resimulation_update(tr)\n",
    "    (xs,) = get_args(tr)\n",
    "    n = length(xs)\n",
    "    NumChunks = div(n, SubChunkSize, RoundUp)\n",
    "    for j=1:NumChunks\n",
    "        # Block 1: Update the line's parameters\n",
    "        line_params = select((:noise,j), (:slope,j))\n",
    "        (tr, _) = mh(tr, line_params)\n",
    "    end\n",
    "    \n",
    "    # Blocks 2-N+1: Update the outlier classifications\n",
    "    for i=1:n\n",
    "        (tr, _) = mh(tr, select(:data => i => :is_outlier))\n",
    "    end\n",
    "    \n",
    "    # Block N+2: Update the prob_outlier parameter\n",
    "    (tr, _) = mh(tr, select(:prob_outlier))\n",
    "    \n",
    "    # Return the updated trace\n",
    "    tr\n",
    "end;"
   ]
  },
  {
   "cell_type": "code",
   "execution_count": null,
   "id": "84484976",
   "metadata": {},
   "outputs": [],
   "source": [
    "function block_resimulation_inference(xs, ys)\n",
    "    observations = make_constraints(ys)\n",
    "    (tr, W) = generate(regression_with_outliers, (xs,), observations)\n",
    "    for iter=1:100\n",
    "        tr = block_resimulation_update(tr)\n",
    "    end\n",
    "    tr\n",
    "end;"
   ]
  },
  {
   "cell_type": "code",
   "execution_count": null,
   "id": "ca23010f",
   "metadata": {},
   "outputs": [],
   "source": [
    "scores = Vector{Float64}(undef, 3)\n",
    "for i=1:3\n",
    "    @time tr = block_resimulation_inference(xs, ys)\n",
    "    scores[i] = get_score(tr)\n",
    "end;\n",
    "println(\"Log probability: \", logmeanexp(scores))"
   ]
  },
  {
   "cell_type": "code",
   "execution_count": null,
   "id": "86a2df55",
   "metadata": {},
   "outputs": [],
   "source": [
    "scores = Vector{Float64}(undef, 3)\n",
    "for i=1:3\n",
    "    @time (tr, W) = importance_resampling(regression_with_outliers, (xs,), observations, 170)\n",
    "    scores[i] = get_score(tr)\n",
    "end;\n",
    "println(\"Log probability: \", logmeanexp(scores))"
   ]
  },
  {
   "cell_type": "code",
   "execution_count": null,
   "id": "790e3cac",
   "metadata": {},
   "outputs": [],
   "source": [
    "t, = generate(regression_with_outliers, (xs,), observations)\n",
    "\n",
    "viz = Plots.@animate for i in 1:300\n",
    "    global t\n",
    "    t = block_resimulation_update(t)\n",
    "    visualize_trace(t; title=\"Iteration $i/300\")\n",
    "end;\n",
    "gif(viz)"
   ]
  },
  {
   "cell_type": "code",
   "execution_count": null,
   "id": "30cc1518",
   "metadata": {},
   "outputs": [],
   "source": [
    "t, = generate(regression_with_outliers, (xs,), observations)\n",
    "\n",
    "viz = Plots.@animate for i in 1:200\n",
    "    global t\n",
    "    t = block_resimulation_update(t)\n",
    "    visualize_trace(t; title=\"Iteration $i/200\")\n",
    "end;\n",
    "gif(viz)"
   ]
  }
 ],
 "metadata": {
  "jupytext": {
   "encoding": "# -*- coding: utf-8 -*-",
   "formats": "jl:light,ipynb"
  },
  "kernelspec": {
   "display_name": "Julia 1.7.1",
   "language": "julia",
   "name": "julia-1.7"
  },
  "language_info": {
   "file_extension": ".jl",
   "mimetype": "application/julia",
   "name": "julia",
   "version": "1.7.1"
  }
 },
 "nbformat": 4,
 "nbformat_minor": 5
}
