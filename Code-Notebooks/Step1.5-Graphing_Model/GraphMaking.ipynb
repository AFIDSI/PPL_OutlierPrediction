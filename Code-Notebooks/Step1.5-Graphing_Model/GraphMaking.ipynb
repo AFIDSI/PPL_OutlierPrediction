{
 "cells": [
  {
   "cell_type": "code",
   "execution_count": 8,
   "id": "5f350ea2",
   "metadata": {
    "scrolled": true
   },
   "outputs": [],
   "source": [
    "using  Plots, Gen"
   ]
  },
  {
   "cell_type": "code",
   "execution_count": 6,
   "id": "a5787c62",
   "metadata": {},
   "outputs": [
    {
     "data": {
      "text/plain": [
       "SubXDif (generic function with 1 method)"
      ]
     },
     "metadata": {},
     "output_type": "display_data"
    }
   ],
   "source": [
    "SubChunkSize = 20\n",
    "function DiffrenceIndex(i)\n",
    "    return(div(i,SubChunkSize,RoundUp))\n",
    "end\n",
    "function SubXDif(xs,i)\n",
    "    return(xs[i] - xs[div(i-1,SubChunkSize,RoundDown)*SubChunkSize+1])\n",
    "end"
   ]
  },
  {
   "cell_type": "code",
   "execution_count": 9,
   "id": "9c452146",
   "metadata": {},
   "outputs": [
    {
     "data": {
      "text/plain": [
       "#28 (generic function with 1 method)"
      ]
     },
     "metadata": {},
     "output_type": "display_data"
    }
   ],
   "source": [
    "#ysOfseted\n",
    "function (trace::Trace; title=\"\")\n",
    "    trace = serialize_trace(trace)\n",
    "    #Graph points\n",
    "    outliers = [pt for (pt, outlier) in zip(trace[:points], trace[:outliers]) if outlier]\n",
    "    inliers =  [pt for (pt, outlier) in zip(trace[:points], trace[:outliers]) if !outlier]\n",
    "    PLT = Plots.scatter(map(first, inliers), map(last, inliers), markercolor=\"blue\", label=nothing, title=title) \n",
    "    PLT = Plots.scatter!(map(first, outliers), map(last, outliers), markercolor=\"red\", label=nothing)\n",
    "\n",
    "    #Graph Line\n",
    "    PLT = Plots.plot!(trace[:xs], trace[:ys], color = \"black\", lw = 3, label = nothing)\n",
    "    return PLT\n",
    "end"
   ]
  },
  {
   "cell_type": "markdown",
   "id": "c48cbd86",
   "metadata": {},
   "source": [
    "\n",
    "function serialize_trace(trace)\n",
    "    (xs,) = Gen.get_args(trace)\n",
    "    n = length(xs)\n",
    "    NumChunks = div(n, SubChunkSize, RoundUp)\n",
    "    Dict(:slope => [trace[(:slope, i)] for i in 1:NumChunks],\n",
    "         #:SubSlope => [trace[(:SubSlope, i)] for i in 1:NumChunks],\n",
    "         :inlier_std => [trace[(:noise, i)] for i in 1:NumChunks],\n",
    "         :points => zip(xs, [trace[:data => i => :y] for i in 1:length(xs)]),\n",
    "         :xs => xs,\n",
    "         :Buffer_y => trace[:Buffer_y],\n",
    "         :Buffer_SubSlope => trace[:Buffer_SubSlope],\n",
    "         :outliers => [trace[:data => i => :is_outlier] for i in 1:length(xs)])\n",
    "end"
   ]
  },
  {
   "cell_type": "markdown",
   "id": "a9fe1aad",
   "metadata": {},
   "source": [
    "    #GraphLine\n",
    "    n = length(trace[:xs])\n",
    "    NumChunks = div(n, SubChunkSize, RoundUp)\n",
    "    SubSlopes = cumsum(pushfirst!([SubChunkSize*trace[:slope][i] for i=1:NumChunks],trace[:Buffer_SubSlope]))\n",
    "    XFunc(n)=(trace[:slope][DiffrenceIndex(n)]) * SubXDif(trace[:xs],n)^2 +\n",
    "             (SubSlopes[DiffrenceIndex(n)]) * SubXDif(trace[:xs],n)\n",
    "\n",
    "    \n",
    "    yInter = cumsum(\n",
    "        pushfirst!(\n",
    "            [XFunc(i*SubChunkSize) - XFunc((i-1)*SubChunkSize+1) for i=1:(NumChunks-1)],\n",
    "            trace[:Buffer_y])\n",
    "            )\n",
    "    \n",
    "    LeftX = trace[:xs][1]\n",
    "    LeftY = yInter[1]\n",
    "    for i = 2:n\n",
    "        RightX =  trace[:xs][i]\n",
    "        RightY = XFunc(i) + yInter[DiffrenceIndex(i)]\n",
    "        PLT = Plots.plot!([LeftX, RightX], [LeftY, RightY], color = \"black\", lw = 3, label = nothing)\n",
    "        LeftX = RightX\n",
    "        LeftY = RightY\n",
    "    end"
   ]
  }
 ],
 "metadata": {
  "jupytext": {
   "encoding": "# -*- coding: utf-8 -*-",
   "formats": "jl:light,ipynb"
  },
  "kernelspec": {
   "display_name": "Julia 1.7.2",
   "language": "julia",
   "name": "julia-1.7"
  },
  "language_info": {
   "file_extension": ".jl",
   "mimetype": "application/julia",
   "name": "julia",
   "version": "1.7.2"
  }
 },
 "nbformat": 4,
 "nbformat_minor": 5
}
