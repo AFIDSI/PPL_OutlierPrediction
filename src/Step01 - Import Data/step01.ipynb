{
 "cells": [
  {
   "cell_type": "code",
   "execution_count": null,
   "id": "b7f182b3-9567-471e-9d56-2f3e6d3a1292",
   "metadata": {},
   "outputs": [],
   "source": [
    "using Plots, CSV, Dates\n",
    "using DataFrames: DataFrame\n",
    "\n",
    "#read data files using DataArrays\n",
    "dataframe = CSV.read(\"../../data/Proccesed/DetrendedCov.csv\", DataFrame)\n",
    "dataframe[!,:Date] = convert.(Base.Float64,dataframe[!,:Date])\n",
    "\n",
    "# display plot\n",
    "xs = dataframe.\"Date\"\n",
    "ys = dataframe.\"DetrendedN1\"\n",
    "Plots.scatter(xs, ys, color=\"black\", xlabel=\"X\", ylabel=\"Y\", label=nothing, title=\"Observations\")"
   ]
  }
 ],
 "metadata": {
  "kernelspec": {
   "display_name": "Julia 1.7.2",
   "language": "julia",
   "name": "julia-1.7"
  },
  "language_info": {
   "name": ""
  }
 },
 "nbformat": 4,
 "nbformat_minor": 5
}
